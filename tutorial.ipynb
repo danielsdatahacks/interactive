{
 "cells": [
  {
   "cell_type": "code",
   "execution_count": 2,
   "metadata": {},
   "outputs": [
    {
     "data": {
      "application/vnd.jupyter.widget-view+json": {
       "model_id": "b56d450318204625b87b2004c98b55bc",
       "version_major": 2,
       "version_minor": 0
      },
      "text/plain": [
       "IntSlider(value=0, description='a')"
      ]
     },
     "metadata": {},
     "output_type": "display_data"
    },
    {
     "data": {
      "application/vnd.jupyter.widget-view+json": {
       "model_id": "20c51098333e46b191c763d74cf7c0a3",
       "version_major": 2,
       "version_minor": 0
      },
      "text/plain": [
       "Output()"
      ]
     },
     "metadata": {},
     "output_type": "display_data"
    }
   ],
   "source": [
    "#HIDDEN\n",
    "from ipywidgets import interact\n",
    "import ipywidgets as widgets\n",
    "from IPython.display import display\n",
    "def f2(a):\n",
    "    print(a)\n",
    "a2 = widgets.IntSlider(description='a')\n",
    "out2 = widgets.interactive_output(f2,{'a':a2})\n",
    "display(a2,out2)"
   ]
  }
 ],
 "metadata": {
  "kernelspec": {
   "display_name": "Python 3",
   "language": "python",
   "name": "python3"
  },
  "language_info": {
   "codemirror_mode": {
    "name": "ipython",
    "version": 3
   },
   "file_extension": ".py",
   "mimetype": "text/x-python",
   "name": "python",
   "nbconvert_exporter": "python",
   "pygments_lexer": "ipython3",
   "version": "3.5.5"
  },
  "widgets": {
   "application/vnd.jupyter.widget-state+json": {
    "state": {
     "008f3e89bbc1430e993c4830829e65b5": {
      "model_module": "@jupyter-widgets/controls",
      "model_module_version": "1.2.0",
      "model_name": "IntSliderModel",
      "state": {
       "description": "a",
       "layout": "IPY_MODEL_c32497ae3b5f4ad39dbb5255ddcc4dd7",
       "style": "IPY_MODEL_ff1105bde2cc4471afd79c52d7112149"
      }
     },
     "00ba959cf4f54c0ea38b84e219f20e46": {
      "model_module": "@jupyter-widgets/output",
      "model_module_version": "1.0.0",
      "model_name": "OutputModel",
      "state": {
       "layout": "IPY_MODEL_e65ee879195d4ae191c0992bbf843109",
       "outputs": [
        {
         "name": "stdout",
         "output_type": "stream",
         "text": "0.0\n"
        }
       ]
      }
     },
     "0459e8f52f8c443e8f7befc1f8c92058": {
      "model_module": "@jupyter-widgets/base",
      "model_module_version": "1.0.0",
      "model_name": "LayoutModel",
      "state": {}
     },
     "07584f15242043a4a71c518fb4b1c563": {
      "model_module": "@jupyter-widgets/base",
      "model_module_version": "1.0.0",
      "model_name": "LayoutModel",
      "state": {}
     },
     "076dbd54e05d42d485d53bbc562eed6a": {
      "model_module": "@jupyter-widgets/base",
      "model_module_version": "1.0.0",
      "model_name": "LayoutModel",
      "state": {}
     },
     "0cdf092d9d014f919751c1323f6a02cb": {
      "model_module": "@jupyter-widgets/base",
      "model_module_version": "1.0.0",
      "model_name": "LayoutModel",
      "state": {}
     },
     "0d2fa59dc2dc476eaf84cdd3d5ba23a2": {
      "model_module": "@jupyter-widgets/controls",
      "model_module_version": "1.2.0",
      "model_name": "SliderStyleModel",
      "state": {
       "description_width": ""
      }
     },
     "116be5bed12c4ceea98377e20668114f": {
      "model_module": "@jupyter-widgets/base",
      "model_module_version": "1.0.0",
      "model_name": "LayoutModel",
      "state": {}
     },
     "15d8ece7970541af8c136c3f3a985663": {
      "model_module": "@jupyter-widgets/controls",
      "model_module_version": "1.2.0",
      "model_name": "SliderStyleModel",
      "state": {
       "description_width": ""
      }
     },
     "1a9306d36c9f4c1d8c3172d652353c50": {
      "model_module": "@jupyter-widgets/base",
      "model_module_version": "1.0.0",
      "model_name": "LayoutModel",
      "state": {}
     },
     "20c51098333e46b191c763d74cf7c0a3": {
      "model_module": "@jupyter-widgets/output",
      "model_module_version": "1.0.0",
      "model_name": "OutputModel",
      "state": {
       "layout": "IPY_MODEL_d3fbe3110e974961a33cbc3b5a3e0a41",
       "outputs": [
        {
         "name": "stdout",
         "output_type": "stream",
         "text": "59\n"
        }
       ]
      }
     },
     "2280e2cbc6e443d88a3bf4bb04bc00c4": {
      "model_module": "@jupyter-widgets/controls",
      "model_module_version": "1.2.0",
      "model_name": "IntSliderModel",
      "state": {
       "description": "c",
       "layout": "IPY_MODEL_076dbd54e05d42d485d53bbc562eed6a",
       "style": "IPY_MODEL_9afc407b3d224de8bd32a3a30984d7ae"
      }
     },
     "2682ca432a03443386a06157ef19aaf9": {
      "model_module": "@jupyter-widgets/base",
      "model_module_version": "1.0.0",
      "model_name": "LayoutModel",
      "state": {}
     },
     "28c61916b292464286116cc7a1dcc704": {
      "model_module": "@jupyter-widgets/output",
      "model_module_version": "1.0.0",
      "model_name": "OutputModel",
      "state": {
       "layout": "IPY_MODEL_c3fcf5f6006d40958a10e73e0ebfc7f2",
       "outputs": [
        {
         "name": "stdout",
         "output_type": "stream",
         "text": "0*0*0=0\n"
        }
       ]
      }
     },
     "29f445345f7447808954f08a832a3355": {
      "model_module": "@jupyter-widgets/controls",
      "model_module_version": "1.2.0",
      "model_name": "VBoxModel",
      "state": {
       "children": [
        "IPY_MODEL_d39c29c8abc64cf38664f3ead93f0246",
        "IPY_MODEL_db250aefc3f74b609867a8d4e9dc3464",
        "IPY_MODEL_d3ab64262d2b4f878e000a46659df50e"
       ],
       "layout": "IPY_MODEL_5e27cfc7224c406898a8270f6dc79d44"
      }
     },
     "2b56f116bb0b49e3a2cff041c41ab4c3": {
      "model_module": "@jupyter-widgets/controls",
      "model_module_version": "1.2.0",
      "model_name": "IntSliderModel",
      "state": {
       "description": "a",
       "layout": "IPY_MODEL_479f270fbf094af7b6e61ef895744f7f",
       "style": "IPY_MODEL_2eea5a0eec7d4b10811c66283dc7ef90",
       "value": 43
      }
     },
     "2eea5a0eec7d4b10811c66283dc7ef90": {
      "model_module": "@jupyter-widgets/controls",
      "model_module_version": "1.2.0",
      "model_name": "SliderStyleModel",
      "state": {
       "description_width": ""
      }
     },
     "30eefb750f194f099993b8f963eecbfd": {
      "model_module": "@jupyter-widgets/controls",
      "model_module_version": "1.2.0",
      "model_name": "SliderStyleModel",
      "state": {
       "description_width": ""
      }
     },
     "3144915bce1245d48b5623845368a9ad": {
      "model_module": "@jupyter-widgets/controls",
      "model_module_version": "1.2.0",
      "model_name": "IntSliderModel",
      "state": {
       "description": "a",
       "layout": "IPY_MODEL_abc58862e0af476d86fa52ba7a514a4b",
       "style": "IPY_MODEL_4dac9adaede445e687da5dfb9723e5b0",
       "value": 20
      }
     },
     "3551b42d7f81481791e6ee58538623b7": {
      "model_module": "@jupyter-widgets/controls",
      "model_module_version": "1.2.0",
      "model_name": "IntSliderModel",
      "state": {
       "description": "a",
       "layout": "IPY_MODEL_718de6b542c24fabb51fcfc00888fd23",
       "style": "IPY_MODEL_f97db16121814229a4f755102f131182"
      }
     },
     "3815e6631e5147a9be9053e25ef3d346": {
      "model_module": "@jupyter-widgets/base",
      "model_module_version": "1.0.0",
      "model_name": "LayoutModel",
      "state": {}
     },
     "3a7415ce72cb451dadeebe27100ed464": {
      "model_module": "@jupyter-widgets/base",
      "model_module_version": "1.0.0",
      "model_name": "LayoutModel",
      "state": {}
     },
     "3d7c1a6b3c1844259139cd5fa38ac69b": {
      "model_module": "@jupyter-widgets/controls",
      "model_module_version": "1.2.0",
      "model_name": "HBoxModel",
      "state": {
       "children": [
        "IPY_MODEL_29f445345f7447808954f08a832a3355",
        "IPY_MODEL_b48c08c5ca43430c9bf49231544a2bfe"
       ],
       "layout": "IPY_MODEL_4858267e5efc455ab9e3ae5118d741af"
      }
     },
     "3edbd03197ba4fd19d3f644add7f5289": {
      "model_module": "@jupyter-widgets/controls",
      "model_module_version": "1.2.0",
      "model_name": "SliderStyleModel",
      "state": {
       "description_width": ""
      }
     },
     "444e7a5972ce487f87afbd07b8f96fe4": {
      "model_module": "@jupyter-widgets/controls",
      "model_module_version": "1.2.0",
      "model_name": "SliderStyleModel",
      "state": {
       "description_width": ""
      }
     },
     "46d733fd038f400bbc6ee3d66db2b7bc": {
      "model_module": "@jupyter-widgets/base",
      "model_module_version": "1.0.0",
      "model_name": "LayoutModel",
      "state": {}
     },
     "479f270fbf094af7b6e61ef895744f7f": {
      "model_module": "@jupyter-widgets/base",
      "model_module_version": "1.0.0",
      "model_name": "LayoutModel",
      "state": {}
     },
     "4858267e5efc455ab9e3ae5118d741af": {
      "model_module": "@jupyter-widgets/base",
      "model_module_version": "1.0.0",
      "model_name": "LayoutModel",
      "state": {}
     },
     "48cd6bfee4c4492a93cd4116e2c55c4a": {
      "model_module": "@jupyter-widgets/base",
      "model_module_version": "1.0.0",
      "model_name": "LayoutModel",
      "state": {}
     },
     "4910738dbdb74202b7d9a9ccb0107c9d": {
      "model_module": "@jupyter-widgets/output",
      "model_module_version": "1.0.0",
      "model_name": "OutputModel",
      "state": {
       "layout": "IPY_MODEL_0cdf092d9d014f919751c1323f6a02cb",
       "outputs": [
        {
         "name": "stdout",
         "output_type": "stream",
         "text": "43\n"
        }
       ]
      }
     },
     "4c3efe8d3eed4e9d9b7aff07839cac54": {
      "model_module": "@jupyter-widgets/base",
      "model_module_version": "1.0.0",
      "model_name": "LayoutModel",
      "state": {}
     },
     "4dac9adaede445e687da5dfb9723e5b0": {
      "model_module": "@jupyter-widgets/controls",
      "model_module_version": "1.2.0",
      "model_name": "SliderStyleModel",
      "state": {
       "description_width": ""
      }
     },
     "4e3a98f0ab0346a3b05fd701a9739888": {
      "model_module": "@jupyter-widgets/controls",
      "model_module_version": "1.2.0",
      "model_name": "IntSliderModel",
      "state": {
       "description": "b",
       "layout": "IPY_MODEL_3a7415ce72cb451dadeebe27100ed464",
       "style": "IPY_MODEL_659ffea2ce3d4932873752f1588c6936"
      }
     },
     "53b2133333d24ffdb1bd36c16ecc0555": {
      "model_module": "@jupyter-widgets/controls",
      "model_module_version": "1.2.0",
      "model_name": "SliderStyleModel",
      "state": {
       "description_width": ""
      }
     },
     "53b7a329577b44b4bd4d95ea182a9d93": {
      "model_module": "@jupyter-widgets/controls",
      "model_module_version": "1.2.0",
      "model_name": "SliderStyleModel",
      "state": {
       "description_width": ""
      }
     },
     "551a08ccfbdb47029f77e7991c3cc485": {
      "model_module": "@jupyter-widgets/controls",
      "model_module_version": "1.2.0",
      "model_name": "IntSliderModel",
      "state": {
       "description": "a",
       "layout": "IPY_MODEL_6e1316ef81f747a1ac399a42e2314974",
       "style": "IPY_MODEL_0d2fa59dc2dc476eaf84cdd3d5ba23a2"
      }
     },
     "5aebe0ccb5d540b48ec71c605c7b95cf": {
      "model_module": "@jupyter-widgets/controls",
      "model_module_version": "1.2.0",
      "model_name": "IntSliderModel",
      "state": {
       "description": "b",
       "layout": "IPY_MODEL_fa251fc35ae44700a29c7a49420ed786",
       "style": "IPY_MODEL_53b2133333d24ffdb1bd36c16ecc0555"
      }
     },
     "5b0a32c7d7a8454e847de5b6b8f0e2f2": {
      "model_module": "@jupyter-widgets/base",
      "model_module_version": "1.0.0",
      "model_name": "LayoutModel",
      "state": {}
     },
     "5b2c80014e9e41d093cebe6b235db835": {
      "model_module": "@jupyter-widgets/controls",
      "model_module_version": "1.2.0",
      "model_name": "SliderStyleModel",
      "state": {
       "description_width": ""
      }
     },
     "5e27cfc7224c406898a8270f6dc79d44": {
      "model_module": "@jupyter-widgets/base",
      "model_module_version": "1.0.0",
      "model_name": "LayoutModel",
      "state": {}
     },
     "5fe9a2bb47d64e6cbcc36157521a0302": {
      "model_module": "@jupyter-widgets/controls",
      "model_module_version": "1.2.0",
      "model_name": "IntSliderModel",
      "state": {
       "description": "c",
       "layout": "IPY_MODEL_6704d709091f4fc1b277c4af4ba8c38e",
       "style": "IPY_MODEL_af9a3232b27a423bafc0a9dd9a0a0932"
      }
     },
     "61673e84aa0f457aad4e63007cfd28b4": {
      "model_module": "@jupyter-widgets/controls",
      "model_module_version": "1.2.0",
      "model_name": "SliderStyleModel",
      "state": {
       "description_width": ""
      }
     },
     "61906fe2d3d448d38361cbea30243443": {
      "model_module": "@jupyter-widgets/base",
      "model_module_version": "1.0.0",
      "model_name": "LayoutModel",
      "state": {}
     },
     "659ffea2ce3d4932873752f1588c6936": {
      "model_module": "@jupyter-widgets/controls",
      "model_module_version": "1.2.0",
      "model_name": "SliderStyleModel",
      "state": {
       "description_width": ""
      }
     },
     "6704d709091f4fc1b277c4af4ba8c38e": {
      "model_module": "@jupyter-widgets/base",
      "model_module_version": "1.0.0",
      "model_name": "LayoutModel",
      "state": {}
     },
     "675c1f31376a4bcba9234ae3cee6dbaf": {
      "model_module": "@jupyter-widgets/controls",
      "model_module_version": "1.2.0",
      "model_name": "IntSliderModel",
      "state": {
       "description": "c",
       "layout": "IPY_MODEL_5b0a32c7d7a8454e847de5b6b8f0e2f2",
       "style": "IPY_MODEL_444e7a5972ce487f87afbd07b8f96fe4"
      }
     },
     "6a870cde66fb44a38c77b51817d2b058": {
      "model_module": "@jupyter-widgets/output",
      "model_module_version": "1.0.0",
      "model_name": "OutputModel",
      "state": {
       "layout": "IPY_MODEL_46d733fd038f400bbc6ee3d66db2b7bc",
       "outputs": [
        {
         "name": "stdout",
         "output_type": "stream",
         "text": "0\n"
        }
       ]
      }
     },
     "6c745edc5eca450a83f5f4396ee0d70c": {
      "model_module": "@jupyter-widgets/controls",
      "model_module_version": "1.2.0",
      "model_name": "HBoxModel",
      "state": {
       "children": [
        "IPY_MODEL_efba4d22f6d6406498dcb873a93379e4",
        "IPY_MODEL_28c61916b292464286116cc7a1dcc704"
       ],
       "layout": "IPY_MODEL_a798ed7564964f819c1fc0a1b7f1fe31"
      }
     },
     "6e1316ef81f747a1ac399a42e2314974": {
      "model_module": "@jupyter-widgets/base",
      "model_module_version": "1.0.0",
      "model_name": "LayoutModel",
      "state": {}
     },
     "6f2b03d458f945afa07764c857fa493e": {
      "model_module": "@jupyter-widgets/base",
      "model_module_version": "1.0.0",
      "model_name": "LayoutModel",
      "state": {}
     },
     "718de6b542c24fabb51fcfc00888fd23": {
      "model_module": "@jupyter-widgets/base",
      "model_module_version": "1.0.0",
      "model_name": "LayoutModel",
      "state": {}
     },
     "71b799cc93824bb5a9c5833930d5b769": {
      "model_module": "@jupyter-widgets/output",
      "model_module_version": "1.0.0",
      "model_name": "OutputModel",
      "state": {
       "layout": "IPY_MODEL_0459e8f52f8c443e8f7befc1f8c92058"
      }
     },
     "72272e6bbb7347209a80b57c563ea461": {
      "model_module": "@jupyter-widgets/base",
      "model_module_version": "1.0.0",
      "model_name": "LayoutModel",
      "state": {}
     },
     "727ec7c21efc44ab82601a18a73756be": {
      "model_module": "@jupyter-widgets/controls",
      "model_module_version": "1.2.0",
      "model_name": "SliderStyleModel",
      "state": {
       "description_width": ""
      }
     },
     "72c2093ef18b4a949a694bd6efb7c1d4": {
      "model_module": "@jupyter-widgets/base",
      "model_module_version": "1.0.0",
      "model_name": "LayoutModel",
      "state": {}
     },
     "7379ef41c8694508ba4417792bc5d791": {
      "model_module": "@jupyter-widgets/base",
      "model_module_version": "1.0.0",
      "model_name": "LayoutModel",
      "state": {}
     },
     "76b9755902cf45f9823de1e0b034a98e": {
      "model_module": "@jupyter-widgets/output",
      "model_module_version": "1.0.0",
      "model_name": "OutputModel",
      "state": {
       "layout": "IPY_MODEL_d8c8735d9c5d4cd888e7a45acd02a05e"
      }
     },
     "7bc2eb94f0cd46aea992d1f2ee3bd55b": {
      "model_module": "@jupyter-widgets/controls",
      "model_module_version": "1.2.0",
      "model_name": "SliderStyleModel",
      "state": {
       "description_width": ""
      }
     },
     "7bfd1b20d6364357bdab94e0ee603ad9": {
      "model_module": "@jupyter-widgets/output",
      "model_module_version": "1.0.0",
      "model_name": "OutputModel",
      "state": {
       "layout": "IPY_MODEL_822c5ccc198a4c5ca728f5e3e04cde39",
       "outputs": [
        {
         "name": "stdout",
         "output_type": "stream",
         "text": "0\n"
        }
       ]
      }
     },
     "7cc317105cd546a29c97c33163f25e93": {
      "model_module": "@jupyter-widgets/controls",
      "model_module_version": "1.2.0",
      "model_name": "HBoxModel",
      "state": {
       "children": [
        "IPY_MODEL_b278ed9d53274a31b9c1661edbfe196e",
        "IPY_MODEL_f9cf2ea6da2e4f089a5a476a7ef55e9f"
       ],
       "layout": "IPY_MODEL_a5ce5501f97a4f779111e9cf03799327"
      }
     },
     "7f68c073c65243b4a8919da3a8f297c2": {
      "model_module": "@jupyter-widgets/output",
      "model_module_version": "1.0.0",
      "model_name": "OutputModel",
      "state": {
       "layout": "IPY_MODEL_07584f15242043a4a71c518fb4b1c563",
       "outputs": [
        {
         "ename": "TypeError",
         "evalue": "f() got an unexpected keyword argument 'b'",
         "output_type": "error",
         "traceback": [
          "\u001b[0;31m---------------------------------------------------------------------------\u001b[0m",
          "\u001b[0;31mTypeError\u001b[0m                                 Traceback (most recent call last)",
          "\u001b[0;32m/anaconda/envs/jupyter_blog_env/lib/python3.5/site-packages/ipywidgets/widgets/interaction.py\u001b[0m in \u001b[0;36mobserver\u001b[0;34m(change)\u001b[0m\n\u001b[1;32m     72\u001b[0m         \u001b[0;32mwith\u001b[0m \u001b[0mout\u001b[0m\u001b[0;34m:\u001b[0m\u001b[0;34m\u001b[0m\u001b[0m\n\u001b[1;32m     73\u001b[0m             \u001b[0mclear_output\u001b[0m\u001b[0;34m(\u001b[0m\u001b[0mwait\u001b[0m\u001b[0;34m=\u001b[0m\u001b[0;32mTrue\u001b[0m\u001b[0;34m)\u001b[0m\u001b[0;34m\u001b[0m\u001b[0m\n\u001b[0;32m---> 74\u001b[0;31m             \u001b[0mf\u001b[0m\u001b[0;34m(\u001b[0m\u001b[0;34m**\u001b[0m\u001b[0mkwargs\u001b[0m\u001b[0;34m)\u001b[0m\u001b[0;34m\u001b[0m\u001b[0m\n\u001b[0m\u001b[1;32m     75\u001b[0m             \u001b[0mshow_inline_matplotlib_plots\u001b[0m\u001b[0;34m(\u001b[0m\u001b[0;34m)\u001b[0m\u001b[0;34m\u001b[0m\u001b[0m\n\u001b[1;32m     76\u001b[0m     \u001b[0;32mfor\u001b[0m \u001b[0mk\u001b[0m\u001b[0;34m,\u001b[0m\u001b[0mw\u001b[0m \u001b[0;32min\u001b[0m \u001b[0mcontrols\u001b[0m\u001b[0;34m.\u001b[0m\u001b[0mitems\u001b[0m\u001b[0;34m(\u001b[0m\u001b[0;34m)\u001b[0m\u001b[0;34m:\u001b[0m\u001b[0;34m\u001b[0m\u001b[0m\n",
          "\u001b[0;31mTypeError\u001b[0m: f() got an unexpected keyword argument 'b'"
         ]
        }
       ]
      }
     },
     "822c5ccc198a4c5ca728f5e3e04cde39": {
      "model_module": "@jupyter-widgets/base",
      "model_module_version": "1.0.0",
      "model_name": "LayoutModel",
      "state": {}
     },
     "8a670b3c1a034ca79fdc0de18b8dda24": {
      "model_module": "@jupyter-widgets/controls",
      "model_module_version": "1.2.0",
      "model_name": "SliderStyleModel",
      "state": {
       "description_width": ""
      }
     },
     "94cef48b09f34bea8a73a6db0771def2": {
      "model_module": "@jupyter-widgets/controls",
      "model_module_version": "1.2.0",
      "model_name": "IntSliderModel",
      "state": {
       "description": "a",
       "layout": "IPY_MODEL_f6ec2bf501734684b451907797908864",
       "style": "IPY_MODEL_8a670b3c1a034ca79fdc0de18b8dda24"
      }
     },
     "96d8f60e9613403787794fd2e6405085": {
      "model_module": "@jupyter-widgets/output",
      "model_module_version": "1.0.0",
      "model_name": "OutputModel",
      "state": {
       "layout": "IPY_MODEL_d71d919e70384e0cb5edefd8b3ad7d70",
       "outputs": [
        {
         "name": "stdout",
         "output_type": "stream",
         "text": "0\n"
        }
       ]
      }
     },
     "996d61b28a4b4bf18fde0ec9eded9219": {
      "model_module": "@jupyter-widgets/base",
      "model_module_version": "1.0.0",
      "model_name": "LayoutModel",
      "state": {}
     },
     "9afc407b3d224de8bd32a3a30984d7ae": {
      "model_module": "@jupyter-widgets/controls",
      "model_module_version": "1.2.0",
      "model_name": "SliderStyleModel",
      "state": {
       "description_width": ""
      }
     },
     "a4539ef43cb84bd59db884efe3c5a927": {
      "model_module": "@jupyter-widgets/output",
      "model_module_version": "1.0.0",
      "model_name": "OutputModel",
      "state": {
       "layout": "IPY_MODEL_48cd6bfee4c4492a93cd4116e2c55c4a"
      }
     },
     "a5ce5501f97a4f779111e9cf03799327": {
      "model_module": "@jupyter-widgets/base",
      "model_module_version": "1.0.0",
      "model_name": "LayoutModel",
      "state": {}
     },
     "a798ed7564964f819c1fc0a1b7f1fe31": {
      "model_module": "@jupyter-widgets/base",
      "model_module_version": "1.0.0",
      "model_name": "LayoutModel",
      "state": {}
     },
     "aa279fd7e3f54367bf32094033f2dfda": {
      "model_module": "@jupyter-widgets/output",
      "model_module_version": "1.0.0",
      "model_name": "OutputModel",
      "state": {
       "layout": "IPY_MODEL_61906fe2d3d448d38361cbea30243443",
       "outputs": [
        {
         "name": "stdout",
         "output_type": "stream",
         "text": "0\n"
        }
       ]
      }
     },
     "abc58862e0af476d86fa52ba7a514a4b": {
      "model_module": "@jupyter-widgets/base",
      "model_module_version": "1.0.0",
      "model_name": "LayoutModel",
      "state": {}
     },
     "adbb822cdf66477db6fbb6a83269d5f3": {
      "model_module": "@jupyter-widgets/base",
      "model_module_version": "1.0.0",
      "model_name": "LayoutModel",
      "state": {}
     },
     "af9a3232b27a423bafc0a9dd9a0a0932": {
      "model_module": "@jupyter-widgets/controls",
      "model_module_version": "1.2.0",
      "model_name": "SliderStyleModel",
      "state": {
       "description_width": ""
      }
     },
     "b278ed9d53274a31b9c1661edbfe196e": {
      "model_module": "@jupyter-widgets/controls",
      "model_module_version": "1.2.0",
      "model_name": "VBoxModel",
      "state": {
       "children": [
        "IPY_MODEL_3144915bce1245d48b5623845368a9ad",
        "IPY_MODEL_e1da2a222a6d44de9e22b311eb2cef59",
        "IPY_MODEL_675c1f31376a4bcba9234ae3cee6dbaf"
       ],
       "layout": "IPY_MODEL_6f2b03d458f945afa07764c857fa493e"
      }
     },
     "b48c08c5ca43430c9bf49231544a2bfe": {
      "model_module": "@jupyter-widgets/output",
      "model_module_version": "1.0.0",
      "model_name": "OutputModel",
      "state": {
       "layout": "IPY_MODEL_f3fe6b51851646d096ae39c6ec99b936",
       "outputs": [
        {
         "name": "stdout",
         "output_type": "stream",
         "text": "29*58*49=82418\n"
        }
       ]
      }
     },
     "b56d450318204625b87b2004c98b55bc": {
      "model_module": "@jupyter-widgets/controls",
      "model_module_version": "1.2.0",
      "model_name": "IntSliderModel",
      "state": {
       "description": "a",
       "layout": "IPY_MODEL_fb558a0768d741cbaf0030607520a148",
       "style": "IPY_MODEL_3edbd03197ba4fd19d3f644add7f5289",
       "value": 59
      }
     },
     "b6a0577294ba4c3387e38383e13b22d6": {
      "model_module": "@jupyter-widgets/controls",
      "model_module_version": "1.2.0",
      "model_name": "IntSliderModel",
      "state": {
       "description": "a",
       "layout": "IPY_MODEL_3815e6631e5147a9be9053e25ef3d346",
       "style": "IPY_MODEL_da01a6d1c6ee4667be4c7746fab55bc0"
      }
     },
     "c2694ea4066c405bbf8e644347f9fc60": {
      "model_module": "@jupyter-widgets/base",
      "model_module_version": "1.0.0",
      "model_name": "LayoutModel",
      "state": {}
     },
     "c32497ae3b5f4ad39dbb5255ddcc4dd7": {
      "model_module": "@jupyter-widgets/base",
      "model_module_version": "1.0.0",
      "model_name": "LayoutModel",
      "state": {}
     },
     "c3fcf5f6006d40958a10e73e0ebfc7f2": {
      "model_module": "@jupyter-widgets/base",
      "model_module_version": "1.0.0",
      "model_name": "LayoutModel",
      "state": {}
     },
     "cbbf8bb56d014f32b931e95a4d61b5f0": {
      "model_module": "@jupyter-widgets/controls",
      "model_module_version": "1.2.0",
      "model_name": "SliderStyleModel",
      "state": {
       "description_width": ""
      }
     },
     "d306771b58444b5685c597511f5e7340": {
      "model_module": "@jupyter-widgets/controls",
      "model_module_version": "1.2.0",
      "model_name": "HBoxModel",
      "state": {
       "children": [
        "IPY_MODEL_f3cd793e47bc4c50abd41c5d992a6070",
        "IPY_MODEL_7f68c073c65243b4a8919da3a8f297c2"
       ],
       "layout": "IPY_MODEL_efecfab57dcd4f84856965e850527018"
      }
     },
     "d39c29c8abc64cf38664f3ead93f0246": {
      "model_module": "@jupyter-widgets/controls",
      "model_module_version": "1.2.0",
      "model_name": "IntSliderModel",
      "state": {
       "description": "a",
       "layout": "IPY_MODEL_f351cd63a61849a9ab88c269770a4a9e",
       "style": "IPY_MODEL_727ec7c21efc44ab82601a18a73756be",
       "value": 29
      }
     },
     "d3ab64262d2b4f878e000a46659df50e": {
      "model_module": "@jupyter-widgets/controls",
      "model_module_version": "1.2.0",
      "model_name": "IntSliderModel",
      "state": {
       "description": "c",
       "layout": "IPY_MODEL_4c3efe8d3eed4e9d9b7aff07839cac54",
       "style": "IPY_MODEL_30eefb750f194f099993b8f963eecbfd",
       "value": 49
      }
     },
     "d3fbe3110e974961a33cbc3b5a3e0a41": {
      "model_module": "@jupyter-widgets/base",
      "model_module_version": "1.0.0",
      "model_name": "LayoutModel",
      "state": {}
     },
     "d71d919e70384e0cb5edefd8b3ad7d70": {
      "model_module": "@jupyter-widgets/base",
      "model_module_version": "1.0.0",
      "model_name": "LayoutModel",
      "state": {}
     },
     "d872a7fb01304d479d6a36cf9b0b6cd0": {
      "model_module": "@jupyter-widgets/controls",
      "model_module_version": "1.2.0",
      "model_name": "IntSliderModel",
      "state": {
       "description": "a",
       "layout": "IPY_MODEL_72c2093ef18b4a949a694bd6efb7c1d4",
       "style": "IPY_MODEL_7bc2eb94f0cd46aea992d1f2ee3bd55b"
      }
     },
     "d88861baa9af438eb22621fed6a19afb": {
      "model_module": "@jupyter-widgets/base",
      "model_module_version": "1.0.0",
      "model_name": "LayoutModel",
      "state": {}
     },
     "d8944386b9f74e538e102c253d01a55d": {
      "model_module": "@jupyter-widgets/controls",
      "model_module_version": "1.2.0",
      "model_name": "IntSliderModel",
      "state": {
       "description": "a",
       "layout": "IPY_MODEL_c2694ea4066c405bbf8e644347f9fc60",
       "style": "IPY_MODEL_5b2c80014e9e41d093cebe6b235db835"
      }
     },
     "d8c8735d9c5d4cd888e7a45acd02a05e": {
      "model_module": "@jupyter-widgets/base",
      "model_module_version": "1.0.0",
      "model_name": "LayoutModel",
      "state": {}
     },
     "da01a6d1c6ee4667be4c7746fab55bc0": {
      "model_module": "@jupyter-widgets/controls",
      "model_module_version": "1.2.0",
      "model_name": "SliderStyleModel",
      "state": {
       "description_width": ""
      }
     },
     "db250aefc3f74b609867a8d4e9dc3464": {
      "model_module": "@jupyter-widgets/controls",
      "model_module_version": "1.2.0",
      "model_name": "IntSliderModel",
      "state": {
       "description": "b",
       "layout": "IPY_MODEL_7379ef41c8694508ba4417792bc5d791",
       "style": "IPY_MODEL_ecba33c3a65a4144a50d7c9d046782e3",
       "value": 58
      }
     },
     "e0ebbaf925204523aacc281f3f8d525c": {
      "model_module": "@jupyter-widgets/controls",
      "model_module_version": "1.2.0",
      "model_name": "IntSliderModel",
      "state": {
       "description": "a",
       "layout": "IPY_MODEL_d88861baa9af438eb22621fed6a19afb",
       "style": "IPY_MODEL_53b7a329577b44b4bd4d95ea182a9d93",
       "value": 58
      }
     },
     "e1da2a222a6d44de9e22b311eb2cef59": {
      "model_module": "@jupyter-widgets/controls",
      "model_module_version": "1.2.0",
      "model_name": "IntSliderModel",
      "state": {
       "description": "b",
       "layout": "IPY_MODEL_996d61b28a4b4bf18fde0ec9eded9219",
       "style": "IPY_MODEL_61673e84aa0f457aad4e63007cfd28b4"
      }
     },
     "e65ee879195d4ae191c0992bbf843109": {
      "model_module": "@jupyter-widgets/base",
      "model_module_version": "1.0.0",
      "model_name": "LayoutModel",
      "state": {}
     },
     "e80349e4ed2a45528a1102519dbbd56f": {
      "model_module": "@jupyter-widgets/controls",
      "model_module_version": "1.2.0",
      "model_name": "IntSliderModel",
      "state": {
       "description": "a",
       "layout": "IPY_MODEL_f2566bf68f884084ab5ef536cfaf7d00",
       "style": "IPY_MODEL_15d8ece7970541af8c136c3f3a985663"
      }
     },
     "e89377acae6941cf92e3f331877315d3": {
      "model_module": "@jupyter-widgets/output",
      "model_module_version": "1.0.0",
      "model_name": "OutputModel",
      "state": {
       "layout": "IPY_MODEL_adbb822cdf66477db6fbb6a83269d5f3",
       "outputs": [
        {
         "name": "stdout",
         "output_type": "stream",
         "text": "58\n"
        }
       ]
      }
     },
     "ecba33c3a65a4144a50d7c9d046782e3": {
      "model_module": "@jupyter-widgets/controls",
      "model_module_version": "1.2.0",
      "model_name": "SliderStyleModel",
      "state": {
       "description_width": ""
      }
     },
     "efba4d22f6d6406498dcb873a93379e4": {
      "model_module": "@jupyter-widgets/controls",
      "model_module_version": "1.2.0",
      "model_name": "VBoxModel",
      "state": {
       "children": [
        "IPY_MODEL_008f3e89bbc1430e993c4830829e65b5",
        "IPY_MODEL_5aebe0ccb5d540b48ec71c605c7b95cf",
        "IPY_MODEL_5fe9a2bb47d64e6cbcc36157521a0302"
       ],
       "layout": "IPY_MODEL_1a9306d36c9f4c1d8c3172d652353c50"
      }
     },
     "efecfab57dcd4f84856965e850527018": {
      "model_module": "@jupyter-widgets/base",
      "model_module_version": "1.0.0",
      "model_name": "LayoutModel",
      "state": {}
     },
     "f2566bf68f884084ab5ef536cfaf7d00": {
      "model_module": "@jupyter-widgets/base",
      "model_module_version": "1.0.0",
      "model_name": "LayoutModel",
      "state": {}
     },
     "f351cd63a61849a9ab88c269770a4a9e": {
      "model_module": "@jupyter-widgets/base",
      "model_module_version": "1.0.0",
      "model_name": "LayoutModel",
      "state": {}
     },
     "f3cd793e47bc4c50abd41c5d992a6070": {
      "model_module": "@jupyter-widgets/controls",
      "model_module_version": "1.2.0",
      "model_name": "VBoxModel",
      "state": {
       "children": [
        "IPY_MODEL_b6a0577294ba4c3387e38383e13b22d6",
        "IPY_MODEL_4e3a98f0ab0346a3b05fd701a9739888",
        "IPY_MODEL_2280e2cbc6e443d88a3bf4bb04bc00c4"
       ],
       "layout": "IPY_MODEL_116be5bed12c4ceea98377e20668114f"
      }
     },
     "f3fe6b51851646d096ae39c6ec99b936": {
      "model_module": "@jupyter-widgets/base",
      "model_module_version": "1.0.0",
      "model_name": "LayoutModel",
      "state": {}
     },
     "f6ec2bf501734684b451907797908864": {
      "model_module": "@jupyter-widgets/base",
      "model_module_version": "1.0.0",
      "model_name": "LayoutModel",
      "state": {}
     },
     "f7da2c48d054452290a8dc8708be8855": {
      "model_module": "@jupyter-widgets/controls",
      "model_module_version": "1.2.0",
      "model_name": "IntSliderModel",
      "state": {
       "description": "a",
       "layout": "IPY_MODEL_72272e6bbb7347209a80b57c563ea461",
       "style": "IPY_MODEL_cbbf8bb56d014f32b931e95a4d61b5f0"
      }
     },
     "f97db16121814229a4f755102f131182": {
      "model_module": "@jupyter-widgets/controls",
      "model_module_version": "1.2.0",
      "model_name": "SliderStyleModel",
      "state": {
       "description_width": ""
      }
     },
     "f9cf2ea6da2e4f089a5a476a7ef55e9f": {
      "model_module": "@jupyter-widgets/output",
      "model_module_version": "1.0.0",
      "model_name": "OutputModel",
      "state": {
       "layout": "IPY_MODEL_2682ca432a03443386a06157ef19aaf9",
       "outputs": [
        {
         "name": "stdout",
         "output_type": "stream",
         "text": "20*0*0=0\n"
        }
       ]
      }
     },
     "fa251fc35ae44700a29c7a49420ed786": {
      "model_module": "@jupyter-widgets/base",
      "model_module_version": "1.0.0",
      "model_name": "LayoutModel",
      "state": {}
     },
     "fb558a0768d741cbaf0030607520a148": {
      "model_module": "@jupyter-widgets/base",
      "model_module_version": "1.0.0",
      "model_name": "LayoutModel",
      "state": {}
     },
     "ff1105bde2cc4471afd79c52d7112149": {
      "model_module": "@jupyter-widgets/controls",
      "model_module_version": "1.2.0",
      "model_name": "SliderStyleModel",
      "state": {
       "description_width": ""
      }
     }
    },
    "version_major": 2,
    "version_minor": 0
   }
  }
 },
 "nbformat": 4,
 "nbformat_minor": 2
}
